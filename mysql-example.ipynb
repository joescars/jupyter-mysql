{
 "cells": [
  {
   "cell_type": "markdown",
   "metadata": {},
   "source": [
    "# Using Python to access MySQL in Jupyter notebook\n",
    "\n",
    "## Store secrets\n",
    "\n",
    "Create a json file to store your credentials. For example, I created *secrets.json* with the following info\n",
    "\n",
    "```\n",
    "{\n",
    "    \"username\":\"root\",\n",
    "    \"password\":\"mypasswordhere\"\n",
    "}\n",
    "```\n",
    "\n",
    "Using the code below, load your secrets.json file and access the credentials. "
   ]
  },
  {
   "cell_type": "code",
   "execution_count": null,
   "metadata": {},
   "outputs": [],
   "source": [
    "import json\n",
    "\n",
    "with open('secrets.json') as f:\n",
    "    login=json.load(f)\n",
    "\n",
    "myUser = login['username']\n",
    "myPass = login['password']"
   ]
  },
  {
   "cell_type": "markdown",
   "metadata": {},
   "source": [
    "Make sure to include your variables in the connection string"
   ]
  },
  {
   "cell_type": "code",
   "execution_count": null,
   "metadata": {},
   "outputs": [],
   "source": [
    "import mysql.connector\n",
    "\n",
    "cnx = mysql.connector.connect(user=myUser, \n",
    "                              password=myPass,\n",
    "                              host='127.0.0.1',\n",
    "                              database='sakila')\n",
    "\n",
    "cursor = cnx.cursor()\n",
    "\n",
    "query = (\"select first_name, last_name from actor\")\n",
    "\n",
    "cursor.execute(query)\n",
    "\n",
    "for (first_name, last_name) in cursor:\n",
    "    print(\"{} {}\".format(first_name, last_name))\n",
    "\n",
    "cursor.close()\n",
    "cnx.close()"
   ]
  }
 ],
 "metadata": {
  "kernelspec": {
   "display_name": "Python 3 (ipykernel)",
   "language": "python",
   "name": "python3"
  },
  "language_info": {
   "codemirror_mode": {
    "name": "ipython",
    "version": 3
   },
   "file_extension": ".py",
   "mimetype": "text/x-python",
   "name": "python",
   "nbconvert_exporter": "python",
   "pygments_lexer": "ipython3",
   "version": "3.11.1"
  }
 },
 "nbformat": 4,
 "nbformat_minor": 4
}
